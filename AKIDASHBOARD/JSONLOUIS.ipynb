{
 "cells": [
  {
   "cell_type": "code",
   "execution_count": 6,
   "id": "6bb2cebd-eee1-4604-884f-ebe586a672c4",
   "metadata": {
    "tags": []
   },
   "outputs": [],
   "source": [
    "import pandas as pd\n",
    "df = pd.read_csv('../DATA AKIGORA/AkiEXPERT.csv')"
   ]
  },
  {
   "cell_type": "code",
   "execution_count": 20,
   "id": "57f7030e-78bf-483a-a1fe-81ffb78b7a7c",
   "metadata": {
    "tags": []
   },
   "outputs": [
    {
     "data": {
      "text/plain": [
       "(-0.57918, 44.837789)"
      ]
     },
     "execution_count": 20,
     "metadata": {},
     "output_type": "execute_result"
    }
   ],
   "source": [
    "import json\n",
    "a = json.loads(df.geo[1])\n",
    "lat, long = a['location']['coordinates']\n",
    "lat, long"
   ]
  },
  {
   "cell_type": "code",
   "execution_count": 22,
   "id": "fbd52ce1-3510-4d03-9511-6a3253efcc75",
   "metadata": {
    "tags": []
   },
   "outputs": [
    {
     "name": "stdout",
     "output_type": "stream",
     "text": [
      "      latitude  longitude\n",
      "0          NaN        NaN\n",
      "1    -0.579180  44.837789\n",
      "2     1.444209  43.604652\n",
      "3     2.352222  48.856614\n",
      "4          NaN        NaN\n",
      "...        ...        ...\n",
      "2450 -0.579180  44.837789\n",
      "2451 -0.243985  44.912998\n",
      "2452 -0.579180  44.837789\n",
      "2453 -0.579180  44.837789\n",
      "2454 -0.579180  44.837789\n",
      "\n",
      "[2455 rows x 2 columns]\n"
     ]
    }
   ],
   "source": [
    "import pandas as pd\n",
    "import json\n",
    "\n",
    "# Charger le DataFrame\n",
    "df = pd.read_csv('../DATA AKIGORA/AkiEXPERT.csv')\n",
    "\n",
    "# Fonction pour extraire les coordonnées\n",
    "def extract_coordinates(geo):\n",
    "    try:\n",
    "        geo_data = json.loads(geo)\n",
    "        lat, long = geo_data['location']['coordinates']\n",
    "        return lat, long\n",
    "    except:\n",
    "        return None, None\n",
    "\n",
    "# Appliquer la fonction à chaque ligne du DataFrame\n",
    "df[['latitude', 'longitude']] = df['geo'].apply(extract_coordinates).apply(pd.Series)\n",
    "\n",
    "# Afficher le DataFrame résultant\n",
    "print(df[['latitude', 'longitude']])"
   ]
  },
  {
   "cell_type": "code",
   "execution_count": null,
   "id": "8aa34047-4bba-4552-b1ac-1292d6e3dbb2",
   "metadata": {},
   "outputs": [],
   "source": []
  }
 ],
 "metadata": {
  "kernelspec": {
   "display_name": "Python 3 (ipykernel)",
   "language": "python",
   "name": "python3"
  },
  "language_info": {
   "codemirror_mode": {
    "name": "ipython",
    "version": 3
   },
   "file_extension": ".py",
   "mimetype": "text/x-python",
   "name": "python",
   "nbconvert_exporter": "python",
   "pygments_lexer": "ipython3",
   "version": "3.11.5"
  }
 },
 "nbformat": 4,
 "nbformat_minor": 5
}
